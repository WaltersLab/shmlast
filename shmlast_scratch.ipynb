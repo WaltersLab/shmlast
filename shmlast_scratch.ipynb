{
 "cells": [
  {
   "cell_type": "code",
   "execution_count": 154,
   "metadata": {
    "collapsed": false
   },
   "outputs": [],
   "source": [
    "%matplotlib inline\n",
    "#%config InlineBackend.figure_format='retina'"
   ]
  },
  {
   "cell_type": "code",
   "execution_count": 155,
   "metadata": {
    "collapsed": false
   },
   "outputs": [],
   "source": [
    "import pandas as pd\n",
    "import numpy as np\n",
    "import seaborn as sns\n",
    "import shmlast\n",
    "from shmlast.last import MafParser\n",
    "from shmlast import hits\n",
    "import matplotlib.pyplot as plt\n",
    "import matplotlib as mpl\n",
    "from importlib import reload"
   ]
  },
  {
   "cell_type": "code",
   "execution_count": 156,
   "metadata": {
    "collapsed": false
   },
   "outputs": [],
   "source": [
    "plt.style.use('seaborn-ticks')\n",
    "mpl.rc('figure', figsize=(10,10))"
   ]
  },
  {
   "cell_type": "code",
   "execution_count": 157,
   "metadata": {
    "collapsed": false
   },
   "outputs": [
    {
     "data": {
      "text/plain": [
       "<module 'shmlast.hits' from '/work/shmlast/shmlast/hits.py'>"
      ]
     },
     "execution_count": 157,
     "metadata": {},
     "output_type": "execute_result"
    }
   ],
   "source": [
    "reload(hits)"
   ]
  },
  {
   "cell_type": "code",
   "execution_count": 158,
   "metadata": {
    "collapsed": true
   },
   "outputs": [],
   "source": [
    "bh = hits.BestHits(comparison_cols=['E', 'EG2'])"
   ]
  },
  {
   "cell_type": "code",
   "execution_count": 166,
   "metadata": {
    "collapsed": true
   },
   "outputs": [],
   "source": [
    "tst_query_df = MafParser('data/crbl/sacPom.head.fa.renamed.pep.x.pep.head.fa.maf').read()\n",
    "tst_db_df = MafParser('data/crbl/pep.head.fa.x.sacPom.head.fa.renamed.pep.maf').read()\n",
    "tst_names = pd.read_csv('data/crbl/sacPom.head.fa.names.csv')\n",
    "tst_recips = pd.read_csv('data/crbl/sacPom.head.fa.x.pep.head.fa.rbl.csv')"
   ]
  },
  {
   "cell_type": "code",
   "execution_count": 165,
   "metadata": {
    "collapsed": false
   },
   "outputs": [
    {
     "data": {
      "text/html": [
       "<div>\n",
       "<table border=\"1\" class=\"dataframe\">\n",
       "  <thead>\n",
       "    <tr style=\"text-align: right;\">\n",
       "      <th></th>\n",
       "      <th>old_name</th>\n",
       "      <th>new_name</th>\n",
       "    </tr>\n",
       "  </thead>\n",
       "  <tbody>\n",
       "    <tr>\n",
       "      <th>0</th>\n",
       "      <td>SPAC212.11|1|5662|-1|tlh1|I|protein_coding|Rec...</td>\n",
       "      <td>tr0</td>\n",
       "    </tr>\n",
       "    <tr>\n",
       "      <th>1</th>\n",
       "      <td>SPAC212.08c|11784|12994|1|SPAC212.08c|I|protei...</td>\n",
       "      <td>tr1</td>\n",
       "    </tr>\n",
       "  </tbody>\n",
       "</table>\n",
       "</div>"
      ],
      "text/plain": [
       "                                            old_name new_name\n",
       "0  SPAC212.11|1|5662|-1|tlh1|I|protein_coding|Rec...      tr0\n",
       "1  SPAC212.08c|11784|12994|1|SPAC212.08c|I|protei...      tr1"
      ]
     },
     "execution_count": 165,
     "metadata": {},
     "output_type": "execute_result"
    }
   ],
   "source": [
    "tst_names"
   ]
  },
  {
   "cell_type": "code",
   "execution_count": 168,
   "metadata": {
    "collapsed": false
   },
   "outputs": [
    {
     "data": {
      "text/html": [
       "<div>\n",
       "<table border=\"1\" class=\"dataframe\">\n",
       "  <thead>\n",
       "    <tr style=\"text-align: right;\">\n",
       "      <th></th>\n",
       "      <th>EG2</th>\n",
       "      <th>s_aln_len</th>\n",
       "      <th>q_aln_len</th>\n",
       "      <th>s_name</th>\n",
       "      <th>q_start</th>\n",
       "      <th>s_start</th>\n",
       "      <th>E</th>\n",
       "      <th>score</th>\n",
       "      <th>q_strand</th>\n",
       "      <th>q_name</th>\n",
       "      <th>s_strand</th>\n",
       "      <th>s_len</th>\n",
       "      <th>q_len</th>\n",
       "      <th>bitscore</th>\n",
       "      <th>ID</th>\n",
       "      <th>q_frame</th>\n",
       "    </tr>\n",
       "  </thead>\n",
       "  <tbody>\n",
       "    <tr>\n",
       "      <th>0</th>\n",
       "      <td>0.000000e+00</td>\n",
       "      <td>1887</td>\n",
       "      <td>1887</td>\n",
       "      <td>SPAC212.11|tlh1|I|RecQ</td>\n",
       "      <td>0</td>\n",
       "      <td>0</td>\n",
       "      <td>0.000000e+00</td>\n",
       "      <td>9911.0</td>\n",
       "      <td>+</td>\n",
       "      <td>tr0</td>\n",
       "      <td>+</td>\n",
       "      <td>1887</td>\n",
       "      <td>1888</td>\n",
       "      <td>4377.714719</td>\n",
       "      <td>0</td>\n",
       "      <td>1</td>\n",
       "    </tr>\n",
       "    <tr>\n",
       "      <th>1</th>\n",
       "      <td>3.300000e-184</td>\n",
       "      <td>278</td>\n",
       "      <td>278</td>\n",
       "      <td>SPAC212.08c|SPAC212.08c|I|S.</td>\n",
       "      <td>124</td>\n",
       "      <td>0</td>\n",
       "      <td>8.400000e-218</td>\n",
       "      <td>1509.0</td>\n",
       "      <td>+</td>\n",
       "      <td>tr1</td>\n",
       "      <td>+</td>\n",
       "      <td>278</td>\n",
       "      <td>403</td>\n",
       "      <td>669.316355</td>\n",
       "      <td>4</td>\n",
       "      <td>3</td>\n",
       "    </tr>\n",
       "  </tbody>\n",
       "</table>\n",
       "</div>"
      ],
      "text/plain": [
       "             EG2  s_aln_len  q_aln_len                        s_name  q_start  \\\n",
       "0   0.000000e+00       1887       1887        SPAC212.11|tlh1|I|RecQ        0   \n",
       "1  3.300000e-184        278        278  SPAC212.08c|SPAC212.08c|I|S.      124   \n",
       "\n",
       "   s_start              E   score q_strand q_name s_strand  s_len  q_len  \\\n",
       "0        0   0.000000e+00  9911.0        +    tr0        +   1887   1888   \n",
       "1        0  8.400000e-218  1509.0        +    tr1        +    278    403   \n",
       "\n",
       "      bitscore  ID  q_frame  \n",
       "0  4377.714719   0        1  \n",
       "1   669.316355   4        3  "
      ]
     },
     "execution_count": 168,
     "metadata": {},
     "output_type": "execute_result"
    }
   ],
   "source": [
    "tst_recips"
   ]
  },
  {
   "cell_type": "code",
   "execution_count": 163,
   "metadata": {
    "collapsed": false
   },
   "outputs": [
    {
     "data": {
      "text/html": [
       "<div>\n",
       "<table border=\"1\" class=\"dataframe\">\n",
       "  <thead>\n",
       "    <tr style=\"text-align: right;\">\n",
       "      <th></th>\n",
       "      <th>E</th>\n",
       "      <th>EG2</th>\n",
       "      <th>q_aln_len</th>\n",
       "      <th>q_len</th>\n",
       "      <th>q_name</th>\n",
       "      <th>q_start</th>\n",
       "      <th>q_strand</th>\n",
       "      <th>s_aln_len</th>\n",
       "      <th>s_len</th>\n",
       "      <th>s_name</th>\n",
       "      <th>s_start</th>\n",
       "      <th>s_strand</th>\n",
       "      <th>score</th>\n",
       "      <th>bitscore</th>\n",
       "    </tr>\n",
       "  </thead>\n",
       "  <tbody>\n",
       "    <tr>\n",
       "      <th>0</th>\n",
       "      <td>0.000000e+00</td>\n",
       "      <td>0.000000e+00</td>\n",
       "      <td>1887</td>\n",
       "      <td>1888</td>\n",
       "      <td>tr0_1</td>\n",
       "      <td>0</td>\n",
       "      <td>+</td>\n",
       "      <td>1887</td>\n",
       "      <td>1887</td>\n",
       "      <td>SPAC212.11|tlh1|I|RecQ</td>\n",
       "      <td>0</td>\n",
       "      <td>+</td>\n",
       "      <td>9911.0</td>\n",
       "      <td>4377.714719</td>\n",
       "    </tr>\n",
       "    <tr>\n",
       "      <th>1</th>\n",
       "      <td>5.300000e-88</td>\n",
       "      <td>2.500000e-76</td>\n",
       "      <td>158</td>\n",
       "      <td>1888</td>\n",
       "      <td>tr0_1</td>\n",
       "      <td>1487</td>\n",
       "      <td>+</td>\n",
       "      <td>144</td>\n",
       "      <td>147</td>\n",
       "      <td>SPAC212.06c|SPAC212.06c|I|DNA</td>\n",
       "      <td>0</td>\n",
       "      <td>+</td>\n",
       "      <td>697.0</td>\n",
       "      <td>310.923178</td>\n",
       "    </tr>\n",
       "    <tr>\n",
       "      <th>2</th>\n",
       "      <td>1.000000e-04</td>\n",
       "      <td>1.300000e+08</td>\n",
       "      <td>67</td>\n",
       "      <td>404</td>\n",
       "      <td>tr1_5</td>\n",
       "      <td>92</td>\n",
       "      <td>+</td>\n",
       "      <td>67</td>\n",
       "      <td>278</td>\n",
       "      <td>SPAC212.08c|SPAC212.08c|I|S.</td>\n",
       "      <td>122</td>\n",
       "      <td>+</td>\n",
       "      <td>67.0</td>\n",
       "      <td>32.859507</td>\n",
       "    </tr>\n",
       "    <tr>\n",
       "      <th>3</th>\n",
       "      <td>9.100000e-04</td>\n",
       "      <td>1.100000e+09</td>\n",
       "      <td>57</td>\n",
       "      <td>404</td>\n",
       "      <td>tr1_6</td>\n",
       "      <td>56</td>\n",
       "      <td>+</td>\n",
       "      <td>59</td>\n",
       "      <td>278</td>\n",
       "      <td>SPAC212.08c|SPAC212.08c|I|S.</td>\n",
       "      <td>120</td>\n",
       "      <td>+</td>\n",
       "      <td>60.0</td>\n",
       "      <td>29.769910</td>\n",
       "    </tr>\n",
       "    <tr>\n",
       "      <th>4</th>\n",
       "      <td>8.400000e-218</td>\n",
       "      <td>3.300000e-184</td>\n",
       "      <td>278</td>\n",
       "      <td>403</td>\n",
       "      <td>tr1_3</td>\n",
       "      <td>124</td>\n",
       "      <td>+</td>\n",
       "      <td>278</td>\n",
       "      <td>278</td>\n",
       "      <td>SPAC212.08c|SPAC212.08c|I|S.</td>\n",
       "      <td>0</td>\n",
       "      <td>+</td>\n",
       "      <td>1509.0</td>\n",
       "      <td>669.316355</td>\n",
       "    </tr>\n",
       "    <tr>\n",
       "      <th>5</th>\n",
       "      <td>6.500000e-66</td>\n",
       "      <td>1.300000e-51</td>\n",
       "      <td>106</td>\n",
       "      <td>403</td>\n",
       "      <td>tr1_3</td>\n",
       "      <td>124</td>\n",
       "      <td>+</td>\n",
       "      <td>103</td>\n",
       "      <td>123</td>\n",
       "      <td>SPAC212.12|SPAC212.12|I|S.</td>\n",
       "      <td>0</td>\n",
       "      <td>+</td>\n",
       "      <td>511.0</td>\n",
       "      <td>228.828190</td>\n",
       "    </tr>\n",
       "    <tr>\n",
       "      <th>6</th>\n",
       "      <td>1.600000e-07</td>\n",
       "      <td>2.100000e+05</td>\n",
       "      <td>19</td>\n",
       "      <td>404</td>\n",
       "      <td>tr1_1</td>\n",
       "      <td>232</td>\n",
       "      <td>+</td>\n",
       "      <td>19</td>\n",
       "      <td>123</td>\n",
       "      <td>SPAC212.12|SPAC212.12|I|S.</td>\n",
       "      <td>104</td>\n",
       "      <td>+</td>\n",
       "      <td>88.0</td>\n",
       "      <td>42.128296</td>\n",
       "    </tr>\n",
       "  </tbody>\n",
       "</table>\n",
       "</div>"
      ],
      "text/plain": [
       "               E            EG2  q_aln_len  q_len q_name  q_start q_strand  \\\n",
       "0   0.000000e+00   0.000000e+00       1887   1888  tr0_1        0        +   \n",
       "1   5.300000e-88   2.500000e-76        158   1888  tr0_1     1487        +   \n",
       "2   1.000000e-04   1.300000e+08         67    404  tr1_5       92        +   \n",
       "3   9.100000e-04   1.100000e+09         57    404  tr1_6       56        +   \n",
       "4  8.400000e-218  3.300000e-184        278    403  tr1_3      124        +   \n",
       "5   6.500000e-66   1.300000e-51        106    403  tr1_3      124        +   \n",
       "6   1.600000e-07   2.100000e+05         19    404  tr1_1      232        +   \n",
       "\n",
       "   s_aln_len  s_len                         s_name  s_start s_strand   score  \\\n",
       "0       1887   1887         SPAC212.11|tlh1|I|RecQ        0        +  9911.0   \n",
       "1        144    147  SPAC212.06c|SPAC212.06c|I|DNA        0        +   697.0   \n",
       "2         67    278   SPAC212.08c|SPAC212.08c|I|S.      122        +    67.0   \n",
       "3         59    278   SPAC212.08c|SPAC212.08c|I|S.      120        +    60.0   \n",
       "4        278    278   SPAC212.08c|SPAC212.08c|I|S.        0        +  1509.0   \n",
       "5        103    123     SPAC212.12|SPAC212.12|I|S.        0        +   511.0   \n",
       "6         19    123     SPAC212.12|SPAC212.12|I|S.      104        +    88.0   \n",
       "\n",
       "      bitscore  \n",
       "0  4377.714719  \n",
       "1   310.923178  \n",
       "2    32.859507  \n",
       "3    29.769910  \n",
       "4   669.316355  \n",
       "5   228.828190  \n",
       "6    42.128296  "
      ]
     },
     "execution_count": 163,
     "metadata": {},
     "output_type": "execute_result"
    }
   ],
   "source": [
    "tst_query_df"
   ]
  },
  {
   "cell_type": "code",
   "execution_count": 167,
   "metadata": {
    "collapsed": false
   },
   "outputs": [
    {
     "data": {
      "text/html": [
       "<div>\n",
       "<table border=\"1\" class=\"dataframe\">\n",
       "  <thead>\n",
       "    <tr style=\"text-align: right;\">\n",
       "      <th></th>\n",
       "      <th>E</th>\n",
       "      <th>EG2</th>\n",
       "      <th>q_aln_len</th>\n",
       "      <th>q_len</th>\n",
       "      <th>q_name</th>\n",
       "      <th>q_start</th>\n",
       "      <th>q_strand</th>\n",
       "      <th>s_aln_len</th>\n",
       "      <th>s_len</th>\n",
       "      <th>s_name</th>\n",
       "      <th>s_start</th>\n",
       "      <th>s_strand</th>\n",
       "      <th>score</th>\n",
       "      <th>bitscore</th>\n",
       "    </tr>\n",
       "  </thead>\n",
       "  <tbody>\n",
       "    <tr>\n",
       "      <th>0</th>\n",
       "      <td>1.300000e-221</td>\n",
       "      <td>3.300000e-184</td>\n",
       "      <td>278</td>\n",
       "      <td>278</td>\n",
       "      <td>SPAC212.08c|SPAC212.08c|I|S.</td>\n",
       "      <td>0</td>\n",
       "      <td>+</td>\n",
       "      <td>278</td>\n",
       "      <td>403</td>\n",
       "      <td>tr1_3</td>\n",
       "      <td>124</td>\n",
       "      <td>+</td>\n",
       "      <td>1509.0</td>\n",
       "      <td>669.316355</td>\n",
       "    </tr>\n",
       "    <tr>\n",
       "      <th>1</th>\n",
       "      <td>1.600000e-100</td>\n",
       "      <td>2.500000e-76</td>\n",
       "      <td>144</td>\n",
       "      <td>147</td>\n",
       "      <td>SPAC212.06c|SPAC212.06c|I|DNA</td>\n",
       "      <td>0</td>\n",
       "      <td>+</td>\n",
       "      <td>158</td>\n",
       "      <td>1888</td>\n",
       "      <td>tr0_1</td>\n",
       "      <td>1487</td>\n",
       "      <td>+</td>\n",
       "      <td>697.0</td>\n",
       "      <td>310.923178</td>\n",
       "    </tr>\n",
       "    <tr>\n",
       "      <th>2</th>\n",
       "      <td>1.500000e-72</td>\n",
       "      <td>1.300000e-51</td>\n",
       "      <td>103</td>\n",
       "      <td>123</td>\n",
       "      <td>SPAC212.12|SPAC212.12|I|S.</td>\n",
       "      <td>0</td>\n",
       "      <td>+</td>\n",
       "      <td>106</td>\n",
       "      <td>403</td>\n",
       "      <td>tr1_3</td>\n",
       "      <td>124</td>\n",
       "      <td>+</td>\n",
       "      <td>511.0</td>\n",
       "      <td>228.828190</td>\n",
       "    </tr>\n",
       "    <tr>\n",
       "      <th>3</th>\n",
       "      <td>1.200000e-07</td>\n",
       "      <td>2.100000e+05</td>\n",
       "      <td>19</td>\n",
       "      <td>123</td>\n",
       "      <td>SPAC212.12|SPAC212.12|I|S.</td>\n",
       "      <td>104</td>\n",
       "      <td>+</td>\n",
       "      <td>19</td>\n",
       "      <td>404</td>\n",
       "      <td>tr1_1</td>\n",
       "      <td>232</td>\n",
       "      <td>+</td>\n",
       "      <td>88.0</td>\n",
       "      <td>42.128296</td>\n",
       "    </tr>\n",
       "    <tr>\n",
       "      <th>4</th>\n",
       "      <td>3.700000e-04</td>\n",
       "      <td>1.300000e+08</td>\n",
       "      <td>67</td>\n",
       "      <td>278</td>\n",
       "      <td>SPAC212.08c|SPAC212.08c|I|S.</td>\n",
       "      <td>122</td>\n",
       "      <td>+</td>\n",
       "      <td>67</td>\n",
       "      <td>404</td>\n",
       "      <td>tr1_5</td>\n",
       "      <td>92</td>\n",
       "      <td>+</td>\n",
       "      <td>67.0</td>\n",
       "      <td>32.859507</td>\n",
       "    </tr>\n",
       "    <tr>\n",
       "      <th>5</th>\n",
       "      <td>0.000000e+00</td>\n",
       "      <td>0.000000e+00</td>\n",
       "      <td>1887</td>\n",
       "      <td>1887</td>\n",
       "      <td>SPAC212.11|tlh1|I|RecQ</td>\n",
       "      <td>0</td>\n",
       "      <td>+</td>\n",
       "      <td>1887</td>\n",
       "      <td>1888</td>\n",
       "      <td>tr0_1</td>\n",
       "      <td>0</td>\n",
       "      <td>+</td>\n",
       "      <td>9911.0</td>\n",
       "      <td>4377.714719</td>\n",
       "    </tr>\n",
       "  </tbody>\n",
       "</table>\n",
       "</div>"
      ],
      "text/plain": [
       "               E            EG2  q_aln_len  q_len  \\\n",
       "0  1.300000e-221  3.300000e-184        278    278   \n",
       "1  1.600000e-100   2.500000e-76        144    147   \n",
       "2   1.500000e-72   1.300000e-51        103    123   \n",
       "3   1.200000e-07   2.100000e+05         19    123   \n",
       "4   3.700000e-04   1.300000e+08         67    278   \n",
       "5   0.000000e+00   0.000000e+00       1887   1887   \n",
       "\n",
       "                          q_name  q_start q_strand  s_aln_len  s_len s_name  \\\n",
       "0   SPAC212.08c|SPAC212.08c|I|S.        0        +        278    403  tr1_3   \n",
       "1  SPAC212.06c|SPAC212.06c|I|DNA        0        +        158   1888  tr0_1   \n",
       "2     SPAC212.12|SPAC212.12|I|S.        0        +        106    403  tr1_3   \n",
       "3     SPAC212.12|SPAC212.12|I|S.      104        +         19    404  tr1_1   \n",
       "4   SPAC212.08c|SPAC212.08c|I|S.      122        +         67    404  tr1_5   \n",
       "5         SPAC212.11|tlh1|I|RecQ        0        +       1887   1888  tr0_1   \n",
       "\n",
       "   s_start s_strand   score     bitscore  \n",
       "0      124        +  1509.0   669.316355  \n",
       "1     1487        +   697.0   310.923178  \n",
       "2      124        +   511.0   228.828190  \n",
       "3      232        +    88.0    42.128296  \n",
       "4       92        +    67.0    32.859507  \n",
       "5        0        +  9911.0  4377.714719  "
      ]
     },
     "execution_count": 167,
     "metadata": {},
     "output_type": "execute_result"
    }
   ],
   "source": [
    "tst_db_df"
   ]
  },
  {
   "cell_type": "code",
   "execution_count": 7,
   "metadata": {
    "collapsed": false
   },
   "outputs": [],
   "source": [
    "name_map = pd.read_csv('data/sacPom.cdna.fa.names.csv')"
   ]
  },
  {
   "cell_type": "code",
   "execution_count": 97,
   "metadata": {
    "collapsed": false
   },
   "outputs": [],
   "source": [
    "qvd_df = MafParser('data/sacPom.cdna.fa.renamed.pep.x.pep.fa.maf').read()"
   ]
  },
  {
   "cell_type": "code",
   "execution_count": 98,
   "metadata": {
    "collapsed": true
   },
   "outputs": [],
   "source": [
    "dvq_df = MafParser('data/pep.fa.x.sacPom.cdna.fa.renamed.pep.maf').read()"
   ]
  },
  {
   "cell_type": "code",
   "execution_count": 99,
   "metadata": {
    "collapsed": false
   },
   "outputs": [],
   "source": [
    "qvd_df[['qg_name', 'q_frame']] = qvd_df.q_name.str.partition('_')[[0,2]]\n",
    "qvd_df.rename(columns={'q_name': 'translated_q_name',\n",
    "                       'qg_name': 'q_name'},\n",
    "              inplace=True)"
   ]
  },
  {
   "cell_type": "code",
   "execution_count": 133,
   "metadata": {
    "collapsed": false
   },
   "outputs": [],
   "source": [
    "qvd_df['ID'] = qvd_df.index"
   ]
  },
  {
   "cell_type": "code",
   "execution_count": 134,
   "metadata": {
    "collapsed": false
   },
   "outputs": [],
   "source": [
    "dvq_df[['sg_name', 'frame']] = dvq_df.s_name.str.partition('_')[[0,2]]\n",
    "dvq_df.rename(columns={'s_name': 'translated_s_name',\n",
    "                       'sg_name': 's_name'},\n",
    "              inplace=True)"
   ]
  },
  {
   "cell_type": "code",
   "execution_count": 102,
   "metadata": {
    "collapsed": true
   },
   "outputs": [],
   "source": [
    "dvq_df['ID'] = dvq_df.index"
   ]
  },
  {
   "cell_type": "code",
   "execution_count": 117,
   "metadata": {
    "collapsed": false,
    "scrolled": true
   },
   "outputs": [],
   "source": [
    "rbh_df = bh.reciprocal_best_hits(qvd_df, dvq_df)"
   ]
  },
  {
   "cell_type": "code",
   "execution_count": 118,
   "metadata": {
    "collapsed": true
   },
   "outputs": [],
   "source": [
    "def scale_evalue(df, name='E'):\n",
    "    df['E_s'] = df[name]\n",
    "    df.loc[df['E_s'] == 0.0, 'E_s'] = 1e-300\n",
    "    df['E_s'] = -np.log10(df['E_s'])"
   ]
  },
  {
   "cell_type": "code",
   "execution_count": 119,
   "metadata": {
    "collapsed": true
   },
   "outputs": [],
   "source": [
    "def generate_crbb_model(rbh_df):\n",
    "    data = rbh_df[['s_aln_len', 'E']].rename(columns={'s_aln_len': 'length'})\n",
    "    data.sort_values('length', inplace=True)\n",
    "    \n",
    "    scale_evalue(data)\n",
    "    \n",
    "    # create a DataFrame for the model, staring with the alignment lengths\n",
    "    fit = pd.DataFrame(np.arange(10, data['length'].max()), columns=['center'], dtype=int)\n",
    "    \n",
    "    # create the bins\n",
    "    fit['size'] = fit['center'] * 0.1\n",
    "    fit.loc[fit['size'] < 5, 'size'] = 5\n",
    "    fit['size'] = fit['size'].astype(int)\n",
    "    fit['left'] = fit['center'] - fit['size']\n",
    "    fit['right'] = fit['center'] + fit['size']\n",
    "    \n",
    "    # do the fitting: it's just a sliding window with an increasing size\n",
    "    def bin_mean(fit_row, df):\n",
    "        hits = df[(df['length'] >= fit_row.left) & (df['length'] < fit_row.right)]\n",
    "        return hits['E_s'].mean()\n",
    "    fit['fit'] = fit.apply(bin_mean, args=(data,), axis=1)\n",
    "    \n",
    "    return fit.dropna(), data"
   ]
  },
  {
   "cell_type": "code",
   "execution_count": 137,
   "metadata": {
    "collapsed": true
   },
   "outputs": [],
   "source": [
    "def filter_from_model(model_df, hits_df, rbh_df, scale=False):\n",
    "    \n",
    "    if scale:\n",
    "        scale_evalue(hits_df) \n",
    "        \n",
    "    comp_df = pd.merge(hits_df[hits_df['ID'].isin(rbh_df['ID']) == False], model_df, \n",
    "                       left_on='s_aln_len', right_on='center')\n",
    "    \n",
    "    return comp_df[comp_df['E_s'] >= comp_df['fit']]"
   ]
  },
  {
   "cell_type": "code",
   "execution_count": 135,
   "metadata": {
    "collapsed": false
   },
   "outputs": [],
   "source": [
    "fit, data = generate_crbb_model(rbh_df)"
   ]
  },
  {
   "cell_type": "code",
   "execution_count": 139,
   "metadata": {
    "collapsed": false
   },
   "outputs": [],
   "source": [
    "crbh_df = filter_from_model(fit, qvd_df, rbh_df, scale=True)"
   ]
  },
  {
   "cell_type": "code",
   "execution_count": 140,
   "metadata": {
    "collapsed": false
   },
   "outputs": [],
   "source": [
    "del crbh_df['center']\n",
    "del crbh_df['left']\n",
    "del crbh_df['right']\n",
    "del crbh_df['fit']\n",
    "del crbh_df['size']\n",
    "del crbh_df['translated_q_name']"
   ]
  },
  {
   "cell_type": "code",
   "execution_count": 144,
   "metadata": {
    "collapsed": false
   },
   "outputs": [],
   "source": [
    "scale_evalue(rbh_df)"
   ]
  },
  {
   "cell_type": "code",
   "execution_count": 145,
   "metadata": {
    "collapsed": false,
    "scrolled": true
   },
   "outputs": [],
   "source": [
    "reciprocals = pd.concat([rbh_df, crbh_df], axis=0)"
   ]
  },
  {
   "cell_type": "code",
   "execution_count": 153,
   "metadata": {
    "collapsed": false,
    "scrolled": false
   },
   "outputs": [
    {
     "data": {
      "text/plain": [
       "<matplotlib.text.Text at 0x7fe8730ff048>"
      ]
     },
     "execution_count": 153,
     "metadata": {},
     "output_type": "execute_result"
    },
    {
     "data": {
      "image/png": "[encoded data removed]",
      "text/plain": [
       "<matplotlib.figure.Figure at 0x7fe87352e278>"
      ]
     },
     "metadata": {},
     "output_type": "display_data"
    }
   ],
   "source": [
    "scatter_kws = {'s': 10, 'alpha':0.7}\n",
    "\n",
    "scatter_kws['c'] = sns.xkcd_rgb['ruby']\n",
    "scatter_kws['marker'] = 'o'\n",
    "line_kws = {'c': sns.xkcd_rgb['red wine'], 'label':'Query Hits Regression'}\n",
    "sns.regplot('s_aln_len', 'E_s', qvd_df.sample(1000), order=1, label='Query Hits',\n",
    "            scatter_kws=scatter_kws, line_kws=line_kws, color=scatter_kws['c'], )\n",
    "\n",
    "scatter_kws['c'] = sns.xkcd_rgb['twilight blue']\n",
    "scatter_kws['marker'] = 's'\n",
    "sns.regplot('center', 'fit', fit.reset_index().sample(1000), fit_reg=False, x_jitter=True, y_jitter=True, label='CRBL Fit',\n",
    "            scatter_kws=scatter_kws, line_kws=line_kws)\n",
    "\n",
    "leg = plt.legend(fontsize='medium', scatterpoints=3, frameon=True)\n",
    "leg.get_frame().set_linewidth(1.0)\n",
    "plt.xlim(fit.center.min(), fit.center.max())\n",
    "plt.ylim(0, max(fit['fit'].max(), qvd_df['E'].max()) + 50)\n",
    "plt.title('CRBL Fit')"
   ]
  },
  {
   "cell_type": "code",
   "execution_count": null,
   "metadata": {
    "collapsed": true
   },
   "outputs": [],
   "source": []
  }
 ],
 "metadata": {
  "kernelspec": {
   "display_name": "Python 3",
   "language": "python",
   "name": "python3"
  },
  "language_info": {
   "codemirror_mode": {
    "name": "ipython",
    "version": 3
   },
   "file_extension": ".py",
   "mimetype": "text/x-python",
   "name": "python",
   "nbconvert_exporter": "python",
   "pygments_lexer": "ipython3",
   "version": "3.5.1"
  }
 },
 "nbformat": 4,
 "nbformat_minor": 0
}
